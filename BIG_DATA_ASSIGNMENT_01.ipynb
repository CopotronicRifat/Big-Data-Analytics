{
  "nbformat": 4,
  "nbformat_minor": 0,
  "metadata": {
    "colab": {
      "provenance": [],
      "authorship_tag": "ABX9TyOL+bJQoWHAp1WAibbI2J4V",
      "include_colab_link": true
    },
    "kernelspec": {
      "name": "python3",
      "display_name": "Python 3"
    },
    "language_info": {
      "name": "python"
    }
  },
  "cells": [
    {
      "cell_type": "markdown",
      "metadata": {
        "id": "view-in-github",
        "colab_type": "text"
      },
      "source": [
        "<a href=\"https://colab.research.google.com/github/CopotronicRifat/Big-Data-Analytics/blob/main/BIG_DATA_ASSIGNMENT_01.ipynb\" target=\"_parent\"><img src=\"https://colab.research.google.com/assets/colab-badge.svg\" alt=\"Open In Colab\"/></a>"
      ]
    },
    {
      "cell_type": "markdown",
      "source": [
        "**TAST 01: Read the text data and text pre-processing**\n",
        "\n",
        "**1. Read the text data**"
      ],
      "metadata": {
        "id": "y4pRj9ei7KGZ"
      }
    },
    {
      "cell_type": "code",
      "execution_count": null,
      "metadata": {
        "colab": {
          "base_uri": "https://localhost:8080/",
          "height": 316
        },
        "id": "HycSv1XMwrYL",
        "outputId": "dd2b4f02-d4b8-48e9-a8c7-bb9de9014631"
      },
      "outputs": [
        {
          "output_type": "display_data",
          "data": {
            "text/plain": [
              "<IPython.core.display.HTML object>"
            ],
            "text/html": [
              "\n",
              "     <input type=\"file\" id=\"files-a172d8fb-8879-45c4-844e-c2224c24f2ea\" name=\"files[]\" multiple disabled\n",
              "        style=\"border:none\" />\n",
              "     <output id=\"result-a172d8fb-8879-45c4-844e-c2224c24f2ea\">\n",
              "      Upload widget is only available when the cell has been executed in the\n",
              "      current browser session. Please rerun this cell to enable.\n",
              "      </output>\n",
              "      <script>// Copyright 2017 Google LLC\n",
              "//\n",
              "// Licensed under the Apache License, Version 2.0 (the \"License\");\n",
              "// you may not use this file except in compliance with the License.\n",
              "// You may obtain a copy of the License at\n",
              "//\n",
              "//      http://www.apache.org/licenses/LICENSE-2.0\n",
              "//\n",
              "// Unless required by applicable law or agreed to in writing, software\n",
              "// distributed under the License is distributed on an \"AS IS\" BASIS,\n",
              "// WITHOUT WARRANTIES OR CONDITIONS OF ANY KIND, either express or implied.\n",
              "// See the License for the specific language governing permissions and\n",
              "// limitations under the License.\n",
              "\n",
              "/**\n",
              " * @fileoverview Helpers for google.colab Python module.\n",
              " */\n",
              "(function(scope) {\n",
              "function span(text, styleAttributes = {}) {\n",
              "  const element = document.createElement('span');\n",
              "  element.textContent = text;\n",
              "  for (const key of Object.keys(styleAttributes)) {\n",
              "    element.style[key] = styleAttributes[key];\n",
              "  }\n",
              "  return element;\n",
              "}\n",
              "\n",
              "// Max number of bytes which will be uploaded at a time.\n",
              "const MAX_PAYLOAD_SIZE = 100 * 1024;\n",
              "\n",
              "function _uploadFiles(inputId, outputId) {\n",
              "  const steps = uploadFilesStep(inputId, outputId);\n",
              "  const outputElement = document.getElementById(outputId);\n",
              "  // Cache steps on the outputElement to make it available for the next call\n",
              "  // to uploadFilesContinue from Python.\n",
              "  outputElement.steps = steps;\n",
              "\n",
              "  return _uploadFilesContinue(outputId);\n",
              "}\n",
              "\n",
              "// This is roughly an async generator (not supported in the browser yet),\n",
              "// where there are multiple asynchronous steps and the Python side is going\n",
              "// to poll for completion of each step.\n",
              "// This uses a Promise to block the python side on completion of each step,\n",
              "// then passes the result of the previous step as the input to the next step.\n",
              "function _uploadFilesContinue(outputId) {\n",
              "  const outputElement = document.getElementById(outputId);\n",
              "  const steps = outputElement.steps;\n",
              "\n",
              "  const next = steps.next(outputElement.lastPromiseValue);\n",
              "  return Promise.resolve(next.value.promise).then((value) => {\n",
              "    // Cache the last promise value to make it available to the next\n",
              "    // step of the generator.\n",
              "    outputElement.lastPromiseValue = value;\n",
              "    return next.value.response;\n",
              "  });\n",
              "}\n",
              "\n",
              "/**\n",
              " * Generator function which is called between each async step of the upload\n",
              " * process.\n",
              " * @param {string} inputId Element ID of the input file picker element.\n",
              " * @param {string} outputId Element ID of the output display.\n",
              " * @return {!Iterable<!Object>} Iterable of next steps.\n",
              " */\n",
              "function* uploadFilesStep(inputId, outputId) {\n",
              "  const inputElement = document.getElementById(inputId);\n",
              "  inputElement.disabled = false;\n",
              "\n",
              "  const outputElement = document.getElementById(outputId);\n",
              "  outputElement.innerHTML = '';\n",
              "\n",
              "  const pickedPromise = new Promise((resolve) => {\n",
              "    inputElement.addEventListener('change', (e) => {\n",
              "      resolve(e.target.files);\n",
              "    });\n",
              "  });\n",
              "\n",
              "  const cancel = document.createElement('button');\n",
              "  inputElement.parentElement.appendChild(cancel);\n",
              "  cancel.textContent = 'Cancel upload';\n",
              "  const cancelPromise = new Promise((resolve) => {\n",
              "    cancel.onclick = () => {\n",
              "      resolve(null);\n",
              "    };\n",
              "  });\n",
              "\n",
              "  // Wait for the user to pick the files.\n",
              "  const files = yield {\n",
              "    promise: Promise.race([pickedPromise, cancelPromise]),\n",
              "    response: {\n",
              "      action: 'starting',\n",
              "    }\n",
              "  };\n",
              "\n",
              "  cancel.remove();\n",
              "\n",
              "  // Disable the input element since further picks are not allowed.\n",
              "  inputElement.disabled = true;\n",
              "\n",
              "  if (!files) {\n",
              "    return {\n",
              "      response: {\n",
              "        action: 'complete',\n",
              "      }\n",
              "    };\n",
              "  }\n",
              "\n",
              "  for (const file of files) {\n",
              "    const li = document.createElement('li');\n",
              "    li.append(span(file.name, {fontWeight: 'bold'}));\n",
              "    li.append(span(\n",
              "        `(${file.type || 'n/a'}) - ${file.size} bytes, ` +\n",
              "        `last modified: ${\n",
              "            file.lastModifiedDate ? file.lastModifiedDate.toLocaleDateString() :\n",
              "                                    'n/a'} - `));\n",
              "    const percent = span('0% done');\n",
              "    li.appendChild(percent);\n",
              "\n",
              "    outputElement.appendChild(li);\n",
              "\n",
              "    const fileDataPromise = new Promise((resolve) => {\n",
              "      const reader = new FileReader();\n",
              "      reader.onload = (e) => {\n",
              "        resolve(e.target.result);\n",
              "      };\n",
              "      reader.readAsArrayBuffer(file);\n",
              "    });\n",
              "    // Wait for the data to be ready.\n",
              "    let fileData = yield {\n",
              "      promise: fileDataPromise,\n",
              "      response: {\n",
              "        action: 'continue',\n",
              "      }\n",
              "    };\n",
              "\n",
              "    // Use a chunked sending to avoid message size limits. See b/62115660.\n",
              "    let position = 0;\n",
              "    do {\n",
              "      const length = Math.min(fileData.byteLength - position, MAX_PAYLOAD_SIZE);\n",
              "      const chunk = new Uint8Array(fileData, position, length);\n",
              "      position += length;\n",
              "\n",
              "      const base64 = btoa(String.fromCharCode.apply(null, chunk));\n",
              "      yield {\n",
              "        response: {\n",
              "          action: 'append',\n",
              "          file: file.name,\n",
              "          data: base64,\n",
              "        },\n",
              "      };\n",
              "\n",
              "      let percentDone = fileData.byteLength === 0 ?\n",
              "          100 :\n",
              "          Math.round((position / fileData.byteLength) * 100);\n",
              "      percent.textContent = `${percentDone}% done`;\n",
              "\n",
              "    } while (position < fileData.byteLength);\n",
              "  }\n",
              "\n",
              "  // All done.\n",
              "  yield {\n",
              "    response: {\n",
              "      action: 'complete',\n",
              "    }\n",
              "  };\n",
              "}\n",
              "\n",
              "scope.google = scope.google || {};\n",
              "scope.google.colab = scope.google.colab || {};\n",
              "scope.google.colab._files = {\n",
              "  _uploadFiles,\n",
              "  _uploadFilesContinue,\n",
              "};\n",
              "})(self);\n",
              "</script> "
            ]
          },
          "metadata": {}
        },
        {
          "output_type": "stream",
          "name": "stdout",
          "text": [
            "Saving MOVIE DATASET.csv to MOVIE DATASET.csv\n",
            "Successfully read the CSV file: MOVIE DATASET.csv\n",
            "                 Movie Name  \\\n",
            "0                     Seven   \n",
            "1  The Silence of the Lambs   \n",
            "2                 Prisoners   \n",
            "3                 Gone Girl   \n",
            "4            Shutter Island   \n",
            "\n",
            "                                   Movie Description      Type  \n",
            "0  David Fincher's \"Seven\" is a dark and atmosphe...  Thriller  \n",
            "1  Released in 1991, \"The Silence of the Lambs,\" ...  Thriller  \n",
            "2  \"Prisoners,\" directed by Denis Villeneuve and ...  Thriller  \n",
            "3  Directed by David Fincher and based on Gillian...  Thriller  \n",
            "4  Directed by the legendary Martin Scorsese and ...  Thriller  \n"
          ]
        }
      ],
      "source": [
        "import pandas as pd\n",
        "from google.colab import files\n",
        "\n",
        "# Upload a CSV file\n",
        "uploaded = files.upload()\n",
        "\n",
        "# Check the uploaded files\n",
        "file_names = list(uploaded.keys())\n",
        "if len(file_names) == 0:\n",
        "    print(\"No files uploaded.\")\n",
        "else:\n",
        "    # Assume the first uploaded file is the CSV file to be read\n",
        "    file_name = file_names[0]\n",
        "\n",
        "    # Read the uploaded CSV file into a Pandas DataFrame\n",
        "    try:\n",
        "        df = pd.read_csv(file_name)\n",
        "        print(f\"Successfully read the CSV file: {file_name}\")\n",
        "\n",
        "        # Display the first few rows of the DataFrame to verify the data\n",
        "        print(df.head())\n",
        "\n",
        "    except Exception as e:\n",
        "        print(f\"Error reading the CSV file: {str(e)}\")"
      ]
    },
    {
      "cell_type": "markdown",
      "source": [
        "**2. PREPROCESSING**\n",
        "**3. Extract TF-IDF features of the text description **"
      ],
      "metadata": {
        "id": "wGMDE-oK7ebd"
      }
    },
    {
      "cell_type": "code",
      "source": [
        "from sklearn.feature_extraction.text import TfidfVectorizer\n",
        "\n",
        "# Extract the movie descriptions from the DataFrame\n",
        "descriptions = df['Movie Description']\n",
        "\n",
        "# Initialize the TfidfVectorizer\n",
        "tfidf_vectorizer = TfidfVectorizer()\n",
        "\n",
        "# Fit and transform the movie descriptions to extract TF-IDF features\n",
        "tfidf_matrix = tfidf_vectorizer.fit_transform(descriptions)\n",
        "\n",
        "# Create a DataFrame to store the TF-IDF features\n",
        "tfidf_df = pd.DataFrame(tfidf_matrix.toarray(), columns=tfidf_vectorizer.get_feature_names_out())\n",
        "\n",
        "# Print the first few rows of the TF-IDF DataFrame\n",
        "print(tfidf_df.head())"
      ],
      "metadata": {
        "colab": {
          "base_uri": "https://localhost:8080/"
        },
        "id": "kqhMvCGDzJuv",
        "outputId": "a5bc8376-d8d6-4aad-f609-b1f0c930b802"
      },
      "execution_count": null,
      "outputs": [
        {
          "output_type": "stream",
          "name": "stdout",
          "text": [
            "   1944     1950s      1991     1995  2003      2013  2017  2019  2049  \\\n",
            "0   0.0  0.000000  0.000000  0.04878   0.0  0.000000   0.0   0.0   0.0   \n",
            "1   0.0  0.000000  0.045893  0.00000   0.0  0.000000   0.0   0.0   0.0   \n",
            "2   0.0  0.000000  0.000000  0.00000   0.0  0.056728   0.0   0.0   0.0   \n",
            "3   0.0  0.000000  0.000000  0.00000   0.0  0.000000   0.0   0.0   0.0   \n",
            "4   0.0  0.045379  0.000000  0.00000   0.0  0.000000   0.0   0.0   0.0   \n",
            "\n",
            "   abandoned  ...     wrong     wrote  year  years      yet  young  yubaba  \\\n",
            "0        0.0  ...  0.034265  0.000000   0.0    0.0  0.04878    0.0     0.0   \n",
            "1        0.0  ...  0.000000  0.000000   0.0    0.0  0.00000    0.0     0.0   \n",
            "2        0.0  ...  0.039849  0.000000   0.0    0.0  0.00000    0.0     0.0   \n",
            "3        0.0  ...  0.031424  0.044735   0.0    0.0  0.00000    0.0     0.0   \n",
            "4        0.0  ...  0.000000  0.000000   0.0    0.0  0.00000    0.0     0.0   \n",
            "\n",
            "   yusuf  zero  zimmer  \n",
            "0    0.0   0.0     0.0  \n",
            "1    0.0   0.0     0.0  \n",
            "2    0.0   0.0     0.0  \n",
            "3    0.0   0.0     0.0  \n",
            "4    0.0   0.0     0.0  \n",
            "\n",
            "[5 rows x 1784 columns]\n"
          ]
        }
      ]
    },
    {
      "cell_type": "markdown",
      "source": [
        "**4. Standardize the TF-IDF features**"
      ],
      "metadata": {
        "id": "cFlvWjxp7mG6"
      }
    },
    {
      "cell_type": "code",
      "source": [
        "from sklearn.preprocessing import StandardScaler\n",
        "\n",
        "# Initialize the StandardScaler\n",
        "scaler = StandardScaler()\n",
        "\n",
        "# Fit and transform the TF-IDF features\n",
        "tfidf_standardized = scaler.fit_transform(tfidf_matrix.toarray())\n",
        "\n",
        "# Create a DataFrame to store the standardized TF-IDF features\n",
        "tfidf_standardized_df = pd.DataFrame(tfidf_standardized, columns=tfidf_vectorizer.get_feature_names_out())\n",
        "\n",
        "# Print the first few rows of the standardized TF-IDF DataFrame\n",
        "print(tfidf_standardized_df.head())\n"
      ],
      "metadata": {
        "colab": {
          "base_uri": "https://localhost:8080/"
        },
        "id": "9KphMcwM0raz",
        "outputId": "cb545aa6-5bd7-4a69-c79d-134c34d1695c"
      },
      "execution_count": null,
      "outputs": [
        {
          "output_type": "stream",
          "name": "stdout",
          "text": [
            "       1944     1950s      1991      1995      2003      2013      2017  \\\n",
            "0 -0.267261 -0.267261 -0.267261  3.741657 -0.267261 -0.267261 -0.267261   \n",
            "1 -0.267261 -0.267261  3.741657 -0.267261 -0.267261 -0.267261 -0.267261   \n",
            "2 -0.267261 -0.267261 -0.267261 -0.267261 -0.267261  3.741657 -0.267261   \n",
            "3 -0.267261 -0.267261 -0.267261 -0.267261 -0.267261 -0.267261 -0.267261   \n",
            "4 -0.267261  3.741657 -0.267261 -0.267261 -0.267261 -0.267261 -0.267261   \n",
            "\n",
            "       2019      2049  abandoned  ...     wrong     wrote      year     years  \\\n",
            "0 -0.267261 -0.267261  -0.267261  ...  1.661713 -0.267261 -0.267261 -0.267261   \n",
            "1 -0.267261 -0.267261  -0.267261  ... -0.598382 -0.267261 -0.267261 -0.267261   \n",
            "2 -0.267261 -0.267261  -0.267261  ...  2.029983 -0.267261 -0.267261 -0.267261   \n",
            "3 -0.267261 -0.267261  -0.267261  ...  1.474325  3.741657 -0.267261 -0.267261   \n",
            "4 -0.267261 -0.267261  -0.267261  ... -0.598382 -0.267261 -0.267261 -0.267261   \n",
            "\n",
            "        yet     young    yubaba     yusuf      zero    zimmer  \n",
            "0  3.741657 -0.648637 -0.267261 -0.267261 -0.267261 -0.392199  \n",
            "1 -0.267261 -0.648637 -0.267261 -0.267261 -0.267261 -0.392199  \n",
            "2 -0.267261 -0.648637 -0.267261 -0.267261 -0.267261 -0.392199  \n",
            "3 -0.267261 -0.648637 -0.267261 -0.267261 -0.267261 -0.392199  \n",
            "4 -0.267261 -0.648637 -0.267261 -0.267261 -0.267261 -0.392199  \n",
            "\n",
            "[5 rows x 1784 columns]\n"
          ]
        }
      ]
    },
    {
      "cell_type": "markdown",
      "source": [
        "**TASK 02: Implement PCA**\n",
        "\n",
        "**1. PCA**"
      ],
      "metadata": {
        "id": "fsRVfd6C7ozq"
      }
    },
    {
      "cell_type": "code",
      "source": [
        "from sklearn.decomposition import PCA\n",
        "\n",
        "# Initialize the PCA object\n",
        "pca = PCA()\n",
        "\n",
        "# Fit and transform the standardized TF-IDF features\n",
        "tfidf_pca = pca.fit_transform(tfidf_standardized)\n",
        "\n",
        "# Create a DataFrame to store the PCA-transformed features\n",
        "pca_df = pd.DataFrame(tfidf_pca, columns=[f'PC{i+1}' for i in range(tfidf_pca.shape[1])])\n",
        "\n",
        "# Print the first few rows of the PCA-transformed DataFrame\n",
        "print(pca_df.head())\n"
      ],
      "metadata": {
        "colab": {
          "base_uri": "https://localhost:8080/"
        },
        "id": "G4sZ69Ir1F62",
        "outputId": "bb97abdd-430c-47be-eeb5-ba36294d74b7"
      },
      "execution_count": null,
      "outputs": [
        {
          "output_type": "stream",
          "name": "stdout",
          "text": [
            "        PC1       PC2        PC3        PC4        PC5       PC6       PC7  \\\n",
            "0 -5.959329 -8.601014 -11.383823   3.426841   0.917503  4.602670 -4.183002   \n",
            "1 -3.223720 -6.871744  -5.040230   0.995440  -0.649335  2.638251 -6.456093   \n",
            "2 -7.873314 -7.363084 -11.612235  10.900607   4.280245  7.264405 -1.303862   \n",
            "3 -8.314238 -8.152785 -16.321857   1.075561  10.271042 -9.838714 -5.475008   \n",
            "4 -7.331935 -1.264334 -13.392964  -0.251143   4.664635 -2.760988  4.407824   \n",
            "\n",
            "         PC8        PC9       PC10      PC11       PC12       PC13       PC14  \\\n",
            "0   1.837946  -5.143117  -8.101332  3.461924 -10.928826   2.909020  30.848334   \n",
            "1  -2.703192  -2.527878  -0.125868 -0.585735 -20.180375  27.208688 -15.447893   \n",
            "2  10.281272 -14.770146 -15.922101  2.960113  -1.948646 -20.080113 -14.916216   \n",
            "3 -18.228685  16.634689  16.989923 -5.121866  -4.370059 -13.493866  -2.340535   \n",
            "4  -9.442679  -8.790973  -1.324021  9.020407  29.960900  14.478529  -0.631929   \n",
            "\n",
            "           PC15  \n",
            "0  2.620816e-14  \n",
            "1  2.620816e-14  \n",
            "2  2.620816e-14  \n",
            "3  2.620816e-14  \n",
            "4  2.620816e-14  \n"
          ]
        }
      ]
    },
    {
      "cell_type": "markdown",
      "source": [
        "**2. Visualize**"
      ],
      "metadata": {
        "id": "VSV83ZYE72sq"
      }
    },
    {
      "cell_type": "code",
      "source": [
        "import matplotlib.pyplot as plt\n",
        "import numpy as np\n",
        "\n",
        "# Fit PCA and get explained variance ratio\n",
        "pca = PCA()\n",
        "pca.fit(tfidf_standardized)\n",
        "\n",
        "# Create a bar plot for explained variance ratio\n",
        "explained_variance_ratio = pca.explained_variance_ratio_\n",
        "n_components = len(explained_variance_ratio)\n",
        "component_numbers = np.arange(1, n_components + 1)\n",
        "\n",
        "plt.figure(figsize=(10, 6))\n",
        "plt.bar(component_numbers, explained_variance_ratio, align='center', alpha=0.7)\n",
        "plt.xlabel('Principal Component')\n",
        "plt.ylabel('Explained Variance Ratio')\n",
        "plt.title('Explained Variance Ratio of Principal Components')\n",
        "plt.xticks(component_numbers)\n",
        "plt.grid(True, axis='y', linestyle='--', alpha=0.7)\n",
        "\n",
        "plt.show()\n"
      ],
      "metadata": {
        "colab": {
          "base_uri": "https://localhost:8080/",
          "height": 564
        },
        "id": "wtog1xDy1SpB",
        "outputId": "54cbce5a-6685-418a-b651-6c9e7b800173"
      },
      "execution_count": null,
      "outputs": [
        {
          "output_type": "display_data",
          "data": {
            "text/plain": [
              "<Figure size 1000x600 with 1 Axes>"
            ],
            "image/png": "[encoded data removed]"
          },
          "metadata": {}
        }
      ]
    },
    {
      "cell_type": "code",
      "source": [
        "print(component_numbers, explained_variance_ratio)"
      ],
      "metadata": {
        "colab": {
          "base_uri": "https://localhost:8080/"
        },
        "id": "_YN2IO7Mcjdf",
        "outputId": "5b0a6151-145b-4b2c-e831-362077f25bf3"
      },
      "execution_count": null,
      "outputs": [
        {
          "output_type": "stream",
          "name": "stdout",
          "text": [
            "[ 1  2  3  4  5  6  7  8  9 10 11 12 13 14 15] [8.90130297e-02 8.60233060e-02 8.17293550e-02 7.77521275e-02\n",
            " 7.55276815e-02 7.17997715e-02 7.09612704e-02 6.87215717e-02\n",
            " 6.84504548e-02 6.67764364e-02 6.61356834e-02 6.24717108e-02\n",
            " 6.11084454e-02 5.35291560e-02 3.85015420e-31]\n"
          ]
        }
      ]
    },
    {
      "cell_type": "markdown",
      "source": [
        "**3. Another PCA function to select only ‘k’ components**"
      ],
      "metadata": {
        "id": "mPRvkh9I8YUe"
      }
    },
    {
      "cell_type": "code",
      "source": [
        "from sklearn.decomposition import PCA\n",
        "\n",
        "# Choose the desired percentage of variance to retain (e.g., 95%)\n",
        "desired_variance_retained = 0.95\n",
        "\n",
        "# Initialize PCA with 'k' components to retain the desired variance\n",
        "pca_with_k = PCA(n_components=desired_variance_retained)\n",
        "\n",
        "# Fit and transform the standardized TF-IDF features\n",
        "tfidf_pca_with_k = pca_with_k.fit_transform(tfidf_standardized)\n",
        "\n",
        "# Create a DataFrame to store the PCA-transformed features\n",
        "pca_df_with_k = pd.DataFrame(tfidf_pca_with_k, columns=[f'PC{i+1}' for i in range(tfidf_pca_with_k.shape[1])])\n",
        "\n",
        "# Print the first few rows of the PCA-transformed DataFrame\n",
        "print(pca_df_with_k.head())\n"
      ],
      "metadata": {
        "colab": {
          "base_uri": "https://localhost:8080/"
        },
        "id": "QkcBepcn1n1a",
        "outputId": "e8726d8f-44ba-4dac-a5b8-9eedb6ba754e"
      },
      "execution_count": null,
      "outputs": [
        {
          "output_type": "stream",
          "name": "stdout",
          "text": [
            "        PC1       PC2        PC3        PC4        PC5       PC6       PC7  \\\n",
            "0 -5.959329 -8.601014 -11.383823   3.426841   0.917503  4.602670 -4.183002   \n",
            "1 -3.223720 -6.871744  -5.040230   0.995440  -0.649335  2.638251 -6.456093   \n",
            "2 -7.873314 -7.363084 -11.612235  10.900607   4.280245  7.264405 -1.303862   \n",
            "3 -8.314238 -8.152785 -16.321857   1.075561  10.271042 -9.838714 -5.475008   \n",
            "4 -7.331935 -1.264334 -13.392964  -0.251143   4.664635 -2.760988  4.407824   \n",
            "\n",
            "         PC8        PC9       PC10      PC11       PC12       PC13       PC14  \n",
            "0   1.837946  -5.143117  -8.101332  3.461924 -10.928826   2.909020  30.848334  \n",
            "1  -2.703192  -2.527878  -0.125868 -0.585735 -20.180375  27.208688 -15.447893  \n",
            "2  10.281272 -14.770146 -15.922101  2.960113  -1.948646 -20.080113 -14.916216  \n",
            "3 -18.228685  16.634689  16.989923 -5.121866  -4.370059 -13.493866  -2.340535  \n",
            "4  -9.442679  -8.790973  -1.324021  9.020407  29.960900  14.478529  -0.631929  \n"
          ]
        }
      ]
    },
    {
      "cell_type": "markdown",
      "source": [
        "Upon careful examination of the provided bar plot data, it is evident that the rate of change in the y-values decreases as we move further along the x-axis. However, identifying a distinct elbow point in this particular plot is not straightforward, as there is no sharp bend in the curve. Instead, the decline in y-values appears to be relatively gradual throughout.\n",
        "\n",
        "The absence of a clear elbow point may be attributed to several factors:\n",
        "\n",
        "The data may not exhibit a clear clustering structure, or the clusters may have varying densities.\n",
        "The choice of 'k' might not be straightforward based solely on the y-values, and additional domain knowledge or context may be necessary."
      ],
      "metadata": {
        "id": "AkpHhK9a8eLx"
      }
    },
    {
      "cell_type": "markdown",
      "source": [
        "**TASK 03: Projection and Reconstruction**\n",
        "\n",
        "**1. Project the TF-IDF features**"
      ],
      "metadata": {
        "id": "zqzb2cK6-DoO"
      }
    },
    {
      "cell_type": "code",
      "source": [
        "# Fit and transform the standardized TF-IDF features using the PCA object with 'k' components\n",
        "tfidf_pca_with_k = pca_with_k.transform(tfidf_standardized)\n",
        "\n",
        "# Create a DataFrame to store the projected features\n",
        "projected_df = pd.DataFrame(tfidf_pca_with_k, columns=[f'PC{i+1}' for i in range(tfidf_pca_with_k.shape[1])])\n",
        "\n",
        "# Print the first few rows of the projected DataFrame\n",
        "print(projected_df.head())\n"
      ],
      "metadata": {
        "colab": {
          "base_uri": "https://localhost:8080/"
        },
        "id": "8XPmroWV3ym3",
        "outputId": "308d5a56-2b2d-4e66-e7c5-272844f6d1a1"
      },
      "execution_count": null,
      "outputs": [
        {
          "output_type": "stream",
          "name": "stdout",
          "text": [
            "        PC1       PC2        PC3        PC4        PC5       PC6       PC7  \\\n",
            "0 -5.959329 -8.601014 -11.383823   3.426841   0.917503  4.602670 -4.183002   \n",
            "1 -3.223720 -6.871744  -5.040230   0.995440  -0.649335  2.638251 -6.456093   \n",
            "2 -7.873314 -7.363084 -11.612235  10.900607   4.280245  7.264405 -1.303862   \n",
            "3 -8.314238 -8.152785 -16.321857   1.075561  10.271042 -9.838714 -5.475008   \n",
            "4 -7.331935 -1.264334 -13.392964  -0.251143   4.664635 -2.760988  4.407824   \n",
            "\n",
            "         PC8        PC9       PC10      PC11       PC12       PC13       PC14  \n",
            "0   1.837946  -5.143117  -8.101332  3.461924 -10.928826   2.909020  30.848334  \n",
            "1  -2.703192  -2.527878  -0.125868 -0.585735 -20.180375  27.208688 -15.447893  \n",
            "2  10.281272 -14.770146 -15.922101  2.960113  -1.948646 -20.080113 -14.916216  \n",
            "3 -18.228685  16.634689  16.989923 -5.121866  -4.370059 -13.493866  -2.340535  \n",
            "4  -9.442679  -8.790973  -1.324021  9.020407  29.960900  14.478529  -0.631929  \n"
          ]
        }
      ]
    },
    {
      "cell_type": "markdown",
      "source": [
        "**2. Reconstruct the original data from the projections**"
      ],
      "metadata": {
        "id": "bcVvHW8S-MbC"
      }
    },
    {
      "cell_type": "code",
      "source": [
        "# Reconstruct the data from the projections\n",
        "reconstructed_data = pca_with_k.inverse_transform(tfidf_pca_with_k)\n",
        "\n",
        "# Create a DataFrame to store the reconstructed data\n",
        "reconstructed_df = pd.DataFrame(reconstructed_data, columns=tfidf_vectorizer.get_feature_names_out())\n",
        "\n",
        "# Print the first few rows of the reconstructed DataFrame\n",
        "print(reconstructed_df.head())\n"
      ],
      "metadata": {
        "colab": {
          "base_uri": "https://localhost:8080/"
        },
        "id": "i6EMMIeX34HN",
        "outputId": "1dfed716-bf30-4072-b244-73c1635c71e9"
      },
      "execution_count": null,
      "outputs": [
        {
          "output_type": "stream",
          "name": "stdout",
          "text": [
            "       1944     1950s      1991      1995      2003      2013      2017  \\\n",
            "0 -0.267261 -0.267261 -0.267261  3.741657 -0.267261 -0.267261 -0.267261   \n",
            "1 -0.267261 -0.267261  3.741657 -0.267261 -0.267261 -0.267261 -0.267261   \n",
            "2 -0.267261 -0.267261 -0.267261 -0.267261 -0.267261  3.741657 -0.267261   \n",
            "3 -0.267261 -0.267261 -0.267261 -0.267261 -0.267261 -0.267261 -0.267261   \n",
            "4 -0.267261  3.741657 -0.267261 -0.267261 -0.267261 -0.267261 -0.267261   \n",
            "\n",
            "       2019      2049  abandoned  ...     wrong     wrote      year     years  \\\n",
            "0 -0.267261 -0.267261  -0.267261  ...  1.661713 -0.267261 -0.267261 -0.267261   \n",
            "1 -0.267261 -0.267261  -0.267261  ... -0.598382 -0.267261 -0.267261 -0.267261   \n",
            "2 -0.267261 -0.267261  -0.267261  ...  2.029983 -0.267261 -0.267261 -0.267261   \n",
            "3 -0.267261 -0.267261  -0.267261  ...  1.474325  3.741657 -0.267261 -0.267261   \n",
            "4 -0.267261 -0.267261  -0.267261  ... -0.598382 -0.267261 -0.267261 -0.267261   \n",
            "\n",
            "        yet     young    yubaba     yusuf      zero    zimmer  \n",
            "0  3.741657 -0.648637 -0.267261 -0.267261 -0.267261 -0.392199  \n",
            "1 -0.267261 -0.648637 -0.267261 -0.267261 -0.267261 -0.392199  \n",
            "2 -0.267261 -0.648637 -0.267261 -0.267261 -0.267261 -0.392199  \n",
            "3 -0.267261 -0.648637 -0.267261 -0.267261 -0.267261 -0.392199  \n",
            "4 -0.267261 -0.648637 -0.267261 -0.267261 -0.267261 -0.392199  \n",
            "\n",
            "[5 rows x 1784 columns]\n"
          ]
        }
      ]
    },
    {
      "cell_type": "markdown",
      "source": [
        "**3. Calculate reconstruction loss with Mean Squared Error**"
      ],
      "metadata": {
        "id": "MFYKc9ng-W0N"
      }
    },
    {
      "cell_type": "code",
      "source": [
        "from sklearn.metrics import mean_squared_error\n",
        "\n",
        "# Calculate the MSE between original TF-IDF features and reconstructed features\n",
        "mse = mean_squared_error(tfidf_standardized, reconstructed_data)\n",
        "\n",
        "# Print the MSE value\n",
        "print(f\"Mean Squared Error (MSE) between original and reconstructed features: {mse:.9f}\")\n"
      ],
      "metadata": {
        "colab": {
          "base_uri": "https://localhost:8080/"
        },
        "id": "khMbiSEw4Fuz",
        "outputId": "e7b0b56e-73ea-46b9-eb13-54d99e219c10"
      },
      "execution_count": null,
      "outputs": [
        {
          "output_type": "stream",
          "name": "stdout",
          "text": [
            "Mean Squared Error (MSE) between original and reconstructed features: 0.000000000\n"
          ]
        }
      ]
    },
    {
      "cell_type": "markdown",
      "source": [
        "Mean Squared Error (MSE) between the original and reconstructed features is exactly 0.000000000, it implies that there is no error or difference between the original data and the reconstructed data. In other words, the PCA reconstruction perfectly reproduces the original data without any loss of information.\n",
        "\n",
        "This situation can occur when the number of principal components 'k' used for reconstruction is equal to the number of original features, meaning you have retained all the variance in the data. In such cases, PCA is essentially performing an identity transformation, and the reconstructed data matches the original data exactly."
      ],
      "metadata": {
        "id": "wVHCtraP-l45"
      }
    },
    {
      "cell_type": "markdown",
      "source": [
        "**4. Generate a line plot**"
      ],
      "metadata": {
        "id": "GewPSQdO-5kZ"
      }
    },
    {
      "cell_type": "code",
      "source": [
        "import numpy as np\n",
        "import matplotlib.pyplot as plt\n",
        "\n",
        "# Initialize lists to store 'k' values and corresponding MSE values\n",
        "k_values = []\n",
        "mse_values = []\n",
        "\n",
        "# Define a range of 'k' values to explore (e.g., from 1 to 15)\n",
        "k_range = range(1, 16)\n",
        "\n",
        "for k in k_range:\n",
        "    # Initialize PCA with 'k' components\n",
        "    pca_k = PCA(n_components=k)\n",
        "\n",
        "    # Fit and transform the standardized TF-IDF features\n",
        "    tfidf_pca_k = pca_k.fit_transform(tfidf_standardized)\n",
        "\n",
        "    # Reconstruct the data from the projections\n",
        "    reconstructed_data_k = pca_k.inverse_transform(tfidf_pca_k)\n",
        "\n",
        "    # Calculate the MSE between original and reconstructed features\n",
        "    mse_k = mean_squared_error(tfidf_standardized, reconstructed_data_k)\n",
        "\n",
        "    # Append 'k' and MSE values to the lists\n",
        "    k_values.append(k)\n",
        "    mse_values.append(mse_k)\n",
        "\n",
        "# Create a line plot for reconstruction loss (MSE) by varying 'k'\n",
        "plt.figure(figsize=(10, 6))\n",
        "plt.plot(k_values, mse_values, marker='o', linestyle='-')\n",
        "plt.xlabel('Number of Principal Components (k)')\n",
        "plt.ylabel('Reconstruction Loss (MSE)')\n",
        "plt.title('Reconstruction Loss vs. Number of Principal Components (k)')\n",
        "plt.grid(True, linestyle='--', alpha=0.7)\n",
        "plt.xticks(k_values)\n",
        "plt.show()\n"
      ],
      "metadata": {
        "colab": {
          "base_uri": "https://localhost:8080/",
          "height": 564
        },
        "id": "tF-zj4UE5uIL",
        "outputId": "6cadf5be-fb04-4ba0-c130-8c1374951a59"
      },
      "execution_count": null,
      "outputs": [
        {
          "output_type": "display_data",
          "data": {
            "text/plain": [
              "<Figure size 1000x600 with 1 Axes>"
            ],
            "image/png": "[encoded data removed]"
          },
          "metadata": {}
        }
      ]
    },
    {
      "cell_type": "code",
      "source": [
        "print(k_values)\n",
        "print(mse_values)"
      ],
      "metadata": {
        "colab": {
          "base_uri": "https://localhost:8080/"
        },
        "id": "YAL2XqAUgn8A",
        "outputId": "927e31cf-ff00-4e55-db2e-0e0869d60ea7"
      },
      "execution_count": null,
      "outputs": [
        {
          "output_type": "stream",
          "name": "stdout",
          "text": [
            "[1, 2, 3, 4, 5, 6, 7, 8, 9, 10, 11, 12, 13, 14, 15]\n",
            "[0.911322095369733, 0.8259035534548839, 0.7435100916880043, 0.6654821819045745, 0.5899545004028426, 0.51815472887274, 0.4471934585097233, 0.3784718868328435, 0.3100214320380586, 0.24324499566863697, 0.17710931228096874, 0.11463760143468092, 0.053529155997664064, 9.46198512480542e-30, 9.841531293022062e-30]\n"
          ]
        }
      ]
    },
    {
      "cell_type": "markdown",
      "source": [
        "**TASK 04: Interpretation of results**"
      ],
      "metadata": {
        "id": "2_igxe3X_Hu2"
      }
    },
    {
      "cell_type": "markdown",
      "source": [
        "**1. Standardization (Centering and Scaling):**\n",
        "\n",
        "Effect: Standardization scales each feature to have a mean of 0 and a standard deviation of 1. This step ensures that all features have equal influence on the principal components.\n",
        "\n",
        "Observation: In the tfidf_standardized_df DataFrame, each feature has a mean of approximately 0 and a standard deviation of approximately 1.\n",
        "\n",
        "**2. PCA Analysis:**\n",
        "\n",
        "Effect: PCA calculates orthogonal principal components that capture the maximum variance in the standardized data.\n",
        "\n",
        "Observation: In the pca_df DataFrame, we have the principal components (PC1, PC2, ..., PC15) that capture different combinations of variance in the data. Each principal component is orthogonal to the others and represents a linear combination of the original standardized features.\n",
        "\n",
        "**3. De-Standardization (Inverse Transform):**\n",
        "\n",
        "Effect: De-standardization reverses the standardization process, allowing us to obtain the PCA results in the original feature space.\n",
        "\n",
        "Observation: By using the inverse_transform method, we can transform the principal components back into the original feature space. This results in a DataFrame similar to the original tfidf_df but with values that are not exactly the same due to the dimensionality reduction and reconstruction."
      ],
      "metadata": {
        "id": "mbvgNtXNjASQ"
      }
    },
    {
      "cell_type": "markdown",
      "source": [
        "**High 'k' Value (Retaining More Information):**\n",
        "\n",
        "Effect: Choosing a higher 'k' value means retaining more principal components, which, in turn, retains more information from the original dataset.\n",
        "\n",
        "Pros:\n",
        "More information from the original data is preserved.\n",
        "Higher 'k' values capture more of the variance in the data.\n",
        "\n",
        "Cons:\n",
        "The dimensionality of the dataset is reduced less, resulting in a larger feature space.\n",
        "Computationally more expensive and may lead to overfitting in some cases.\n",
        "May not effectively remove noise and less relevant information.\n",
        "\n",
        "**Low 'k' Value (Reducing Dimensionality):**\n",
        "\n",
        "Effect: Choosing a lower 'k' value means retaining fewer principal components, which reduces the dimensionality of the dataset.\n",
        "\n",
        "Pros:\n",
        "Reduced dimensionality simplifies the dataset and makes it more manageable.\n",
        "Faster computation, especially on high-dimensional data.\n",
        "Less prone to overfitting, as it focuses on the most significant patterns.\n",
        "\n",
        "Cons:\n",
        "Information loss: Lower 'k' values capture less variance and may result in loss of important information.\n",
        "\n",
        "**Balancing Information Retention and Dimensionality Reduction:**\n",
        "\n",
        "Explained Variance Ratio: A common approach to choosing 'k' is to consider the explained variance ratio. We can calculate the cumulative explained variance ratio for each 'k' and decide on a threshold. This allows us to choose 'k' such that it retains most of the information while still reducing dimensionality.\n",
        "\n",
        "Scree Plot: Another technique is to create a scree plot, which shows the explained variance for each principal component. The point where the explained variance starts to plateau can be a good indicator of an appropriate 'k'. This method helps strike a balance between information retention and dimensionality reduction.\n",
        "\n",
        "Cross-Validation: We can use cross-validation techniques to evaluate the impact of different 'k' values on model performance. This helps in selecting 'k' that optimizes the trade-off based on the specific task, such as classification or regression."
      ],
      "metadata": {
        "id": "FeaS5NahmCAC"
      }
    },
    {
      "cell_type": "markdown",
      "source": [
        "**TASK 05: PCA vs t-SNE**"
      ],
      "metadata": {
        "id": "JTnNlKiT_lql"
      }
    },
    {
      "cell_type": "markdown",
      "source": [
        "**1. Extract 2 components in both PCA and t-SNE package **"
      ],
      "metadata": {
        "id": "4hkcwfH7_tX7"
      }
    },
    {
      "cell_type": "code",
      "source": [
        "import pandas as pd\n",
        "from sklearn.decomposition import PCA\n",
        "from sklearn.manifold import TSNE\n",
        "from sklearn.feature_extraction.text import TfidfVectorizer\n",
        "\n",
        "# Step 2: Preprocess the textual data using TF-IDF\n",
        "tfidf_vectorizer = TfidfVectorizer(max_features=1000)  # Adjust max_features as needed\n",
        "tfidf_features = tfidf_vectorizer.fit_transform(df['Movie Description'])\n",
        "\n",
        "# Step 3: Apply PCA to reduce to 2 components\n",
        "pca = PCA(n_components=2)\n",
        "pca_result = pca.fit_transform(tfidf_features.toarray())\n",
        "\n",
        "# Step 4: Apply t-SNE with reduced perplexity\n",
        "tsne = TSNE(n_components=2, perplexity=10)  # Adjust perplexity as needed\n",
        "tsne_result = tsne.fit_transform(tfidf_features.toarray())\n",
        "\n"
      ],
      "metadata": {
        "id": "XNXnAE76jCqi"
      },
      "execution_count": null,
      "outputs": []
    },
    {
      "cell_type": "code",
      "source": [
        "print(pca_result)\n",
        "print(tsne_result)"
      ],
      "metadata": {
        "colab": {
          "base_uri": "https://localhost:8080/"
        },
        "id": "dL8Rg1tN5tUz",
        "outputId": "fba59b8b-dc94-4928-e367-5ef1c82c09b9"
      },
      "execution_count": null,
      "outputs": [
        {
          "output_type": "stream",
          "name": "stdout",
          "text": [
            "[[-0.17154754 -0.16491999]\n",
            " [-0.20834909 -0.04741473]\n",
            " [-0.26386738  0.04855817]\n",
            " [-0.08843452 -0.26005393]\n",
            " [-0.08183376 -0.16402636]\n",
            " [ 0.11425    -0.18297459]\n",
            " [ 0.46111211  0.37484425]\n",
            " [ 0.38152718  0.09343153]\n",
            " [ 0.23567862 -0.14510667]\n",
            " [ 0.23582282 -0.15895119]\n",
            " [-0.29076912  0.48578236]\n",
            " [-0.06664971 -0.12096443]\n",
            " [-0.10975709  0.0750324 ]\n",
            " [-0.14517472  0.25092329]\n",
            " [-0.0020078  -0.08416012]]\n",
            "[[-28.45402   -31.046398 ]\n",
            " [-40.424583  -36.036343 ]\n",
            " [-20.558113  -39.930378 ]\n",
            " [-19.336994  -24.667845 ]\n",
            " [-28.127523  -17.67345  ]\n",
            " [-17.443756  -11.835903 ]\n",
            " [ -0.2976302 -19.992052 ]\n",
            " [-50.933723  -12.593493 ]\n",
            " [ -8.593097   -3.1031907]\n",
            " [-40.13883   -17.951239 ]\n",
            " [-34.59285    16.730806 ]\n",
            " [-33.834515   -7.1064367]\n",
            " [-37.747444    3.5115228]\n",
            " [-21.493757    7.7290835]\n",
            " [-25.082422   -4.6746297]]\n"
          ]
        }
      ]
    },
    {
      "cell_type": "markdown",
      "source": [
        "**2. Set instance type.**\n",
        "\n",
        "**3. Generate a scatter plot for PCA projections and a scatter plot for t-SNE projections**"
      ],
      "metadata": {
        "id": "V49qdg4z_1yF"
      }
    },
    {
      "cell_type": "code",
      "source": [
        "import pandas as pd\n",
        "from sklearn.decomposition import PCA\n",
        "from sklearn.manifold import TSNE\n",
        "from sklearn.feature_extraction.text import TfidfVectorizer\n",
        "import matplotlib.pyplot as plt\n",
        "import numpy as np\n",
        "\n",
        "# Step 2: Preprocess the textual data using TF-IDF\n",
        "tfidf_vectorizer = TfidfVectorizer(max_features=1000)  # Adjust max_features as needed\n",
        "tfidf_features = tfidf_vectorizer.fit_transform(df['Movie Description'])\n",
        "\n",
        "# Step 3: Apply PCA to reduce to 2 components\n",
        "pca = PCA(n_components=2)\n",
        "pca_result = pca.fit_transform(tfidf_features.toarray())\n",
        "\n",
        "# Step 4: Apply t-SNE with reduced perplexity\n",
        "tsne = TSNE(n_components=2, perplexity=10)  # Adjust perplexity as needed\n",
        "tsne_result = tsne.fit_transform(tfidf_features.toarray())\n",
        "\n",
        "# Step 5: Extract instance types (labels)\n",
        "labels = df['Type']  # Assuming 'instance_type' is the column containing labels\n",
        "\n",
        "# Step 6: Create scatter plots with colors based on labels\n",
        "plt.figure(figsize=(12, 6))\n",
        "\n",
        "# Scatter plot for PCA projections\n",
        "plt.subplot(1, 2, 1)\n",
        "unique_labels = labels.unique()\n",
        "colors = plt.cm.get_cmap('viridis', len(unique_labels))  # You can choose a different colormap\n",
        "for i, label in enumerate(unique_labels):\n",
        "    indices = labels[labels == label].index\n",
        "    x = pca_result[indices, 0]\n",
        "    y = pca_result[indices, 1]\n",
        "    plt.scatter(x, y, color=colors(i), label=label)\n",
        "plt.xlabel('PCA Component 1')\n",
        "plt.ylabel('PCA Component 2')\n",
        "plt.title('PCA Projections')\n",
        "plt.legend()\n",
        "\n",
        "# Scatter plot for t-SNE projections\n",
        "plt.subplot(1, 2, 2)\n",
        "unique_labels = labels.unique()\n",
        "colors = plt.cm.get_cmap('viridis', len(unique_labels))  # You can choose a different colormap\n",
        "for i, label in enumerate(unique_labels):\n",
        "    indices = labels[labels == label].index\n",
        "    x = tsne_result[indices, 0]\n",
        "    y = tsne_result[indices, 1]\n",
        "    plt.scatter(x, y, color=colors(i), label=label)\n",
        "plt.xlabel('t-SNE Component 1')\n",
        "plt.ylabel('t-SNE Component 2')\n",
        "plt.title('t-SNE Projections')\n",
        "plt.legend()\n",
        "\n",
        "# Adjust layout and show the plots\n",
        "plt.tight_layout()\n",
        "plt.show()\n",
        "\n"
      ],
      "metadata": {
        "colab": {
          "base_uri": "https://localhost:8080/",
          "height": 696
        },
        "id": "f-Seb-cHu-L8",
        "outputId": "efa5e193-ad17-45c7-e171-12fc11f09481"
      },
      "execution_count": null,
      "outputs": [
        {
          "output_type": "stream",
          "name": "stderr",
          "text": [
            "<ipython-input-184-0e994656f861>:29: MatplotlibDeprecationWarning: The get_cmap function was deprecated in Matplotlib 3.7 and will be removed two minor releases later. Use ``matplotlib.colormaps[name]`` or ``matplotlib.colormaps.get_cmap(obj)`` instead.\n",
            "  colors = plt.cm.get_cmap('viridis', len(unique_labels))  # You can choose a different colormap\n",
            "<ipython-input-184-0e994656f861>:43: MatplotlibDeprecationWarning: The get_cmap function was deprecated in Matplotlib 3.7 and will be removed two minor releases later. Use ``matplotlib.colormaps[name]`` or ``matplotlib.colormaps.get_cmap(obj)`` instead.\n",
            "  colors = plt.cm.get_cmap('viridis', len(unique_labels))  # You can choose a different colormap\n"
          ]
        },
        {
          "output_type": "display_data",
          "data": {
            "text/plain": [
              "<Figure size 1200x600 with 2 Axes>"
            ],
            "image/png": "[encoded data removed]"
          },
          "metadata": {}
        }
      ]
    },
    {
      "cell_type": "markdown",
      "source": [
        "**Qualitatively analyzing the difference in projections between the PCA and t-SNE results:**\n",
        "\n",
        "**Cluster Separation:**\n",
        "\n",
        "PCA Result: There is some separation between data points, but the clusters are not very distinct. Points are relatively spread out.\n",
        "t-SNE Result: The t-SNE projection shows more distinct clusters. Data points of the same cluster are closer together, indicating better separation.\n",
        "Outliers:\n",
        "\n",
        "PCA Result: There are no clear outliers, and all points appear to be part of a general distribution.\n",
        "t-SNE Result: The t-SNE projection also lacks clear outliers, but it seems to emphasize the relationships between data points in clusters.\n",
        "\n",
        "**Density of Data Points:**\n",
        "\n",
        "PCA Result: Data points appear somewhat evenly distributed across the plot.\n",
        "t-SNE Result: Data points are more concentrated, suggesting that t-SNE has grouped similar points together more effectively.\n",
        "Overlap:\n",
        "\n",
        "PCA Result: There is slight overlap between clusters, indicating that PCA might not fully separate instances with different characteristics.\n",
        "t-SNE Result: Clusters are less likely to overlap, suggesting better separation of instances with different characteristics.\n",
        "\n",
        "**Global vs. Local Structure:**\n",
        "\n",
        "PCA Result: PCA tends to preserve global variance, which can lead to a spread-out representation of data.\n",
        "t-SNE Result: t-SNE is better at preserving local relationships, resulting in clusters that highlight local structure.\n",
        "\n",
        "**Overall Spread:**\n",
        "\n",
        "PCA Result: The PCA projection appears to have a wider spread, with data points covering a larger area.\n",
        "t-SNE Result: The t-SNE projection is more compact, indicating that it captures more localized relationships.\n",
        "\n",
        "**Data Interpretability:**\n",
        "\n",
        "PCA Result: PCA may provide a more global view of the data, making it easier to interpret general trends.\n",
        "t-SNE Result: t-SNE highlights local relationships and clusters, which can provide insights into specific groupings within the data.\n",
        "Scalability:\n",
        "\n",
        "PCA Result: PCA is generally faster and more scalable for large datasets.\n",
        "t-SNE Result: t-SNE can be computationally expensive and may not be suitable for very large datasets."
      ],
      "metadata": {
        "id": "xlZ6xyId6TF7"
      }
    }
  ]
}